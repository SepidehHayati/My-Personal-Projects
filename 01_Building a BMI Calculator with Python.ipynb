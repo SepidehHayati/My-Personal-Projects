{
 "cells": [
  {
   "cell_type": "code",
   "execution_count": 791,
   "id": "00566b13-7b09-49d1-9fa9-e93a4ee41711",
   "metadata": {},
   "outputs": [],
   "source": [
    "def input_weight():\n",
    "    print (\"Please enter your weight:\")\n",
    "    print (\"1. kilogram\")\n",
    "    print (\"2. pounds\")\n",
    "    try:\n",
    "        weight_choice = int (input(\"Please enter 1 for kilogram or 2 for pounds\"))\n",
    "        if weight_choice == 1:\n",
    "            weight = float(input(\"Please enter your weight in Kilogram:\"))\n",
    "            if weight == 0:\n",
    "                print (\"Your weight cannot be zero!\")\n",
    "                return input_weight()\n",
    "        elif weight_choice == 2:\n",
    "            weight = float(input(\"Please enter your weight in pounds:\"))\n",
    "            if weight == 0:\n",
    "                print (\"Your weight cannot be zero!\")\n",
    "                return input_weight()\n",
    "            else:\n",
    "                weight = weight * 0.453592 # Convert pound to kilogram\n",
    "        else:\n",
    "            print (\"Invalid choice, please insert 1 or 2\")\n",
    "            return input_weight() # Recursive call for invalid input\n",
    "    except ValueError:\n",
    "        print (\"Invalid choice, you are not allowed to enter `Text`, Please Enter a `Number`!\")\n",
    "        return input_weight() # Again recursive call for non-numeric input\n",
    "    return weight"
   ]
  },
  {
   "cell_type": "code",
   "execution_count": 793,
   "id": "cb0db5ed-aadc-4787-8508-33314236657d",
   "metadata": {},
   "outputs": [],
   "source": [
    "def input_height():\n",
    "    print (\"please select one of these options:\")\n",
    "    print (\"1. Cm\")\n",
    "    print (\"2. foot\")\n",
    "    try: \n",
    "        height_choice = int (input(\"Please enter 1 for CM or 2 for Foot\"))\n",
    "        if height_choice == 1:\n",
    "            height = float(input(\"Please enter your height in CM:\"))\n",
    "            if height == 0:\n",
    "                print (\"The height cannot be zero!\")\n",
    "                return input_height()\n",
    "            else:\n",
    "                height = height / 100 # Convert Centimeter to Meter\n",
    "        elif height_choice == 2:\n",
    "            feet = float(input(\"Please enter the feet part of your height, e.g., 5 for 5 feet:\"))\n",
    "            if feet == 0:\n",
    "                print (\"The height cannot be zero!\")\n",
    "                return input_height()\n",
    "            inches = float(input(\"Please enter the inches part of your height, e.g., 9 for 5'9:\"))\n",
    "            height = (feet * 30.48 + inches * 2.54) / 100  # Convert to Meters  \n",
    "        else:\n",
    "            print (\"Invalid choice, please enter 1 or 2\")\n",
    "            return input_height() # Recursive call for invalid input\n",
    "    except ValueError:\n",
    "        print (\"Invalid choice, you are not allowed to enter `Text`, Please Enter a `Number`!\")\n",
    "        return input_height() # Again recursive call for non-numeric input\n",
    "    return height     "
   ]
  },
  {
   "cell_type": "code",
   "execution_count": 795,
   "id": "4924b732-5e2a-4677-a2cd-5d9961065e07",
   "metadata": {},
   "outputs": [],
   "source": [
    "def bmi(weight, height):\n",
    "    bmi = weight/(height ** 2) # Calculate BMI based on the formula\n",
    "    if bmi <= 18.4:\n",
    "        print (f\"your BMI is {bmi:.2f} you considered `UnderWeight`\")\n",
    "    elif 18.5 <= bmi < 24.9:\n",
    "        print (f\"your BMI is {bmi:.2f} you considered `Normal`\")\n",
    "    elif 25 <= bmi < 39.9:\n",
    "        print (f\"your BMI is {bmi:.2f} you considered `Overweight`\")\n",
    "    elif bmi >= 40:\n",
    "        print (f\"your BMI is {bmi:.2f} you considered `Obese`\")\n",
    "    else:\n",
    "        print (\"It might seem you entered numbers out of rages!\")\n",
    "\n",
    "    "
   ]
  },
  {
   "cell_type": "code",
   "execution_count": 797,
   "id": "7fbc493e-5198-41fd-9d50-0a818cd83aed",
   "metadata": {},
   "outputs": [
    {
     "name": "stdout",
     "output_type": "stream",
     "text": [
      "Please enter your weight:\n",
      "1. kilogram\n",
      "2. pounds\n"
     ]
    },
    {
     "name": "stdin",
     "output_type": "stream",
     "text": [
      "Please enter 1 for kilogram or 2 for pounds 2\n",
      "Please enter your weight in pounds: 190\n"
     ]
    },
    {
     "name": "stdout",
     "output_type": "stream",
     "text": [
      "please select one of these options:\n",
      "1. Cm\n",
      "2. foot\n"
     ]
    },
    {
     "name": "stdin",
     "output_type": "stream",
     "text": [
      "Please enter 1 for CM or 2 for Foot 2\n",
      "Please enter the feet part of your height, e.g., 5 for 5 feet: 6\n",
      "Please enter the inches part of your height, e.g., 9 for 5'9: 0\n"
     ]
    },
    {
     "name": "stdout",
     "output_type": "stream",
     "text": [
      "your BMI is 25.77 you considered `Overweight`\n"
     ]
    }
   ],
   "source": [
    "weight = input_weight()\n",
    "height = input_height()\n",
    "bmi(weight, height)\n"
   ]
  }
 ],
 "metadata": {
  "kernelspec": {
   "display_name": "Python 3 (ipykernel)",
   "language": "python",
   "name": "python3"
  },
  "language_info": {
   "codemirror_mode": {
    "name": "ipython",
    "version": 3
   },
   "file_extension": ".py",
   "mimetype": "text/x-python",
   "name": "python",
   "nbconvert_exporter": "python",
   "pygments_lexer": "ipython3",
   "version": "3.12.4"
  }
 },
 "nbformat": 4,
 "nbformat_minor": 5
}
